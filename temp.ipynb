{
 "cells": [
  {
   "cell_type": "code",
   "execution_count": 9,
   "metadata": {},
   "outputs": [],
   "source": [
    "title = \"Kantara\"\n",
    "director = \"Christopher Nolan\""
   ]
  },
  {
   "cell_type": "code",
   "execution_count": 12,
   "metadata": {},
   "outputs": [],
   "source": [
    "column, query = (\"Movie_Title\", title) if title else (\"Director\", director)"
   ]
  },
  {
   "cell_type": "code",
   "execution_count": 13,
   "metadata": {},
   "outputs": [
    {
     "data": {
      "text/plain": [
       "'Movie_Title'"
      ]
     },
     "execution_count": 13,
     "metadata": {},
     "output_type": "execute_result"
    }
   ],
   "source": [
    "column"
   ]
  },
  {
   "cell_type": "code",
   "execution_count": 14,
   "metadata": {},
   "outputs": [
    {
     "data": {
      "text/plain": [
       "'Kantara'"
      ]
     },
     "execution_count": 14,
     "metadata": {},
     "output_type": "execute_result"
    }
   ],
   "source": [
    "query"
   ]
  },
  {
   "cell_type": "code",
   "execution_count": 16,
   "metadata": {},
   "outputs": [],
   "source": [
    "import pandas as pd\n",
    "movies_df = pd.read_csv(\"movie.csv\", on_bad_lines=\"skip\")"
   ]
  },
  {
   "cell_type": "code",
   "execution_count": 18,
   "metadata": {},
   "outputs": [
    {
     "name": "stdout",
     "output_type": "stream",
     "text": [
      "  Movie_Title  Year       Director  \\\n",
      "0     Kantara  2022  Rishab Shetty   \n",
      "\n",
      "                                              Actors  Rating  Runtime(Mins)  \\\n",
      "0  Rishab Shetty, Sapthami Gowda, Kishore Kumar G...     9.3            148   \n",
      "\n",
      "  Censor   Total_Gross main_genre          side_genre  \n",
      "0     UA  Gross Unkown     Action   Adventure,  Drama  \n"
     ]
    }
   ],
   "source": [
    "if query:\n",
    "        recommended_movies = movies_df[\n",
    "            movies_df[column].str.contains(query, case=False, na=False, regex=False)\n",
    "        ].head(5)\n",
    "        print(recommended_movies)"
   ]
  },
  {
   "cell_type": "code",
   "execution_count": 19,
   "metadata": {},
   "outputs": [
    {
     "data": {
      "text/plain": [
       "[{'Movie_Title': 'Kantara',\n",
       "  'Year': 2022,\n",
       "  'Director': 'Rishab Shetty',\n",
       "  'Actors': 'Rishab Shetty, Sapthami Gowda, Kishore Kumar G., Achyuth Kumar',\n",
       "  'Rating': 9.3,\n",
       "  'Runtime(Mins)': 148,\n",
       "  'Censor': 'UA',\n",
       "  'Total_Gross': 'Gross Unkown',\n",
       "  'main_genre': 'Action',\n",
       "  'side_genre': ' Adventure,  Drama'}]"
      ]
     },
     "execution_count": 19,
     "metadata": {},
     "output_type": "execute_result"
    }
   ],
   "source": [
    "recommended_movies.to_dict(orient=\"records\")"
   ]
  }
 ],
 "metadata": {
  "kernelspec": {
   "display_name": "Python 3",
   "language": "python",
   "name": "python3"
  },
  "language_info": {
   "codemirror_mode": {
    "name": "ipython",
    "version": 3
   },
   "file_extension": ".py",
   "mimetype": "text/x-python",
   "name": "python",
   "nbconvert_exporter": "python",
   "pygments_lexer": "ipython3",
   "version": "3.10.12"
  }
 },
 "nbformat": 4,
 "nbformat_minor": 2
}
